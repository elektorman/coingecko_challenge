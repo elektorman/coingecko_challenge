{
  "nbformat": 4,
  "nbformat_minor": 0,
  "metadata": {
    "colab": {
      "provenance": [],
      "authorship_tag": "ABX9TyP5h4+U2vjMgHPDmTMQBH0U"
    },
    "kernelspec": {
      "name": "python3",
      "display_name": "Python 3"
    },
    "language_info": {
      "name": "python"
    }
  },
  "cells": [
    {
      "cell_type": "markdown",
      "source": [
        "# CONEXION A coingecko.com"
      ],
      "metadata": {
        "id": "mV8xbEFklvdb"
      }
    },
    {
      "cell_type": "code",
      "source": [
        "# Acceso a los 'Secrets' en Colab\n",
        "from google.colab import userdata"
      ],
      "metadata": {
        "id": "Afe_1O9eo4VX"
      },
      "execution_count": 1,
      "outputs": []
    },
    {
      "cell_type": "code",
      "source": [
        "# Check de conexion\n",
        "import requests\n",
        "\n",
        "gecko_key = userdata.get('gecko_challenge')\n",
        "base_url=\"https://api.coingecko.com/api/v3/\"\n",
        "end_point= \"/ping\"\n",
        "\n",
        "full_url = base_url+end_point\n",
        "\n",
        "# La API KEY del revisor va aqui.\n",
        "headers = {\"x-cg-demo-api-key\": gecko_key} # <----Pegar la APY KEY aqui\n",
        "\n",
        "response = requests.get(full_url, headers=headers)\n",
        "# Check de conexion\n",
        "print(response.text)"
      ],
      "metadata": {
        "id": "l92lehiVrCwf"
      },
      "execution_count": null,
      "outputs": []
    },
    {
      "cell_type": "markdown",
      "source": [
        "# INGESTA DE DATOS CON API DEMO"
      ],
      "metadata": {
        "id": "1qDkAHKTtzoD"
      }
    },
    {
      "cell_type": "code",
      "source": [
        "# REQUEST para CONSUMO de datos de precios OHLC de BITCOIN (apertura, alto, bajo, cierre)\n",
        "# CANTIDAD DE INFORMACION: 1 dia. No es posible obtener mas dias en 1 solo request\n",
        "# ENDPOINT: https://api.coingecko.com/api/v3/coins/id/ohlc\n",
        "gecko_key = userdata.get('gecko_challenge')\n",
        "target_url = \"https://api.coingecko.com/api/v3/coins/bitcoin/ohlc\"\n",
        "\n",
        "parameters = {\n",
        "           \"vs_currency\":\"usd\",\n",
        "           \"days\":\"1\",\n",
        "           \"precision\":\"4\"\n",
        "          }\n",
        "headers = {\"x-cg-demo-api-key\": gecko_key}\n",
        "\n",
        "response = requests.get(target_url, headers=headers, params=parameters)\n"
      ],
      "metadata": {
        "id": "dY-eky44rCpk"
      },
      "execution_count": null,
      "outputs": []
    },
    {
      "cell_type": "markdown",
      "source": [
        "## INGESTA"
      ],
      "metadata": {
        "id": "Oetg-9cevwcR"
      }
    },
    {
      "cell_type": "code",
      "source": [
        "import numpy as np\n",
        "import pandas as pd\n",
        "\n",
        "np_data = np.array(response.json())"
      ],
      "metadata": {
        "id": "7YUjo5Z4xnys"
      },
      "execution_count": 7,
      "outputs": []
    },
    {
      "cell_type": "code",
      "source": [
        "columnas = [\"VOLUME\",\"OPEN\", \"HIGH\", \"LOW\", \"CLOSE\"]\n",
        "btc_df = pd.DataFrame(np_data, columns=columnas)\n",
        "\n",
        "# Check de datos\n",
        "btc_df.head()"
      ],
      "metadata": {
        "id": "fGlsmsI2_D_-"
      },
      "execution_count": null,
      "outputs": []
    },
    {
      "cell_type": "code",
      "source": [
        "# Check de datos 2\n",
        "btc_df.shape"
      ],
      "metadata": {
        "id": "A6rHq01ctrJv"
      },
      "execution_count": null,
      "outputs": []
    },
    {
      "cell_type": "markdown",
      "source": [
        "## AGGREGANDO FECHAS\n",
        "\n",
        "NOTAS:\n",
        "- Se agregaron fechas al azar debido a que no logré identificar la granularidad de los datos recibidos de la API. No encontre informacion en la documentacion de la documentacion de la API del sitio"
      ],
      "metadata": {
        "id": "2X3BzTgKwPAb"
      }
    },
    {
      "cell_type": "code",
      "source": [
        "list_dates = pd.date_range(start=\"01-01-2024\",end=\"30-03-2024\")\n",
        "new_dates = [y.strftime(\"%d-%m-%Y\") for x,y in enumerate(list_dates) if x < btc_df.shape[0] ]\n",
        "len(new_dates)\n"
      ],
      "metadata": {
        "id": "bpZa80DVhTzv"
      },
      "execution_count": null,
      "outputs": []
    },
    {
      "cell_type": "code",
      "source": [
        "# Insertar FECHAS al DataFrame\n",
        "btc_df.insert(loc=0, column=\"DATE\", value=new_dates)\n",
        "btc_df.head()"
      ],
      "metadata": {
        "id": "E556nGg14Kp1"
      },
      "execution_count": null,
      "outputs": []
    },
    {
      "cell_type": "markdown",
      "source": [
        "# EXPORTACION DE DATOS A UN CSV\n",
        "\n",
        "- El archivo CSV generado, es el mismo que se incluyó en la carpeta de este proyecto\n",
        "- Tambien se compartió como archivo adjunto en el correo enviado a RH"
      ],
      "metadata": {
        "id": "5F662SEhxV7R"
      }
    },
    {
      "cell_type": "code",
      "source": [
        "# Guardar DF en un CSV\n",
        "btc_df.to_csv(\"btc_challenge.csv\", index=False)\n",
        "\n"
      ],
      "metadata": {
        "id": "DMauL7M_4-BA"
      },
      "execution_count": 15,
      "outputs": []
    }
  ]
}